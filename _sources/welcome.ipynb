{
 "cells": [
  {
   "cell_type": "markdown",
   "metadata": {},
   "source": [
    "# Welcome to the OGGM Edu Notebooks!"
   ]
  },
  {
   "cell_type": "markdown",
   "metadata": {},
   "source": [
    "If you are reading this from our webpage (https://oggm.org/oggm-edu-notebooks), remember that each page displayed here is in fact a jupyter notebook! You can start an interactive version of these tutorials online with [MyBinder](https://docs.oggm.org/en/latest/cloud.html) by clicking on the \"launch button\" on the top right of this page (the little rocket 🚀)."
   ]
  },
  {
   "cell_type": "markdown",
   "metadata": {},
   "source": [
    "**If you don't know how to use Jupyter Notebooks:**\n",
    "- [Getting started with the Jupyter Notebook](oggm-edu/getting_started_with_notebooks.ipynb): an introduction to Jupyter Notebooks\n",
    "\n",
    "**Flowline modeling with simplified glacier geometry:**\n",
    "- [Getting started with flowline models: idealized experiments](oggm-edu/flowline_model.ipynb)\n",
    "- [Influence of ice flow parameters on glacier size](oggm-edu/ice_flow_parameters.ipynb)\n",
    "- [Mass balance gradients and their influence on glacier flow](oggm-edu/mass_balance_gradients.ipynb)\n",
    "- [Glacier surging experiments](oggm-edu/surging_experiment.ipynb)\n",
    "\n",
    "**Glacier surface mass balance, advance and retreat processes with simplified glacier geometry:**\n",
    "- [Temperature index model](oggm-edu/temperature_index_model.ipynb)\n",
    "- [Accumulation and ablation processes](oggm-edu/accumulation_and_ablation.ipynb)\n",
    "- [Glacier advance and retreat](oggm-edu/advance_and_retreat.ipynb)\n",
    "\n",
    "**Glaciers as water ressources and \"real world\" glacier experiments:**\n",
    "- [Glaciers as water resources: part 1 (idealized climate)](oggm-edu/glacier_water_resources.ipynb)\n",
    "- [Glaciers as water resources: part 2 (projections)](oggm-edu/glacier_water_resources_projections.ipynb)\n",
    "\n",
    "**Educational graphics:**\n",
    "- [ELA changes and response time](graphics/ela_changes_response_time.ipynb)"
   ]
  },
  {
   "cell_type": "markdown",
   "metadata": {},
   "source": [
    "For more information, visit https://edu.oggm.org!"
   ]
  }
 ],
 "metadata": {
  "hide_input": false,
  "kernelspec": {
   "display_name": "Python 3",
   "language": "python",
   "name": "python3"
  },
  "language_info": {
   "codemirror_mode": {
    "name": "ipython",
    "version": 3
   },
   "file_extension": ".py",
   "mimetype": "text/x-python",
   "name": "python",
   "nbconvert_exporter": "python",
   "pygments_lexer": "ipython3",
   "version": "3.8.5"
  },
  "toc": {
   "base_numbering": 1,
   "nav_menu": {},
   "number_sections": false,
   "sideBar": true,
   "skip_h1_title": true,
   "title_cell": "Table of Contents",
   "title_sidebar": "Contents",
   "toc_cell": false,
   "toc_position": {},
   "toc_section_display": true,
   "toc_window_display": false
  }
 },
 "nbformat": 4,
 "nbformat_minor": 4
}
